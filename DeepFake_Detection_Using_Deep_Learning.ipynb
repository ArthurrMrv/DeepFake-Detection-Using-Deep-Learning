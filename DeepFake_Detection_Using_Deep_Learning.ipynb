{
  "cells": [
    {
      "cell_type": "markdown",
      "source": [
        "##***DeepFake Detection Using Deep Learning***\n",
        "\n",
        "\n"
      ],
      "metadata": {
        "id": "vT0ZeOGYfnYR"
      }
    },
    {
      "cell_type": "markdown",
      "metadata": {
        "id": "hXpkNPub7U3e"
      },
      "source": [
        "## **Setup and Library Imports**"
      ]
    },
    {
      "cell_type": "code",
      "execution_count": null,
      "metadata": {
        "colab": {
          "base_uri": "https://localhost:8080/"
        },
        "id": "KBqoSTxJ4Z8i",
        "outputId": "97d8f5e6-b9f3-4123-ecd6-c948e7214b6d"
      },
      "outputs": [
        {
          "output_type": "stream",
          "name": "stdout",
          "text": [
            "Mounted at /content/drive\n"
          ]
        }
      ],
      "source": [
        "from google.colab import drive\n",
        "drive.mount('/content/drive') "
      ]
    },
    {
      "cell_type": "code",
      "execution_count": null,
      "metadata": {
        "colab": {
          "base_uri": "https://localhost:8080/"
        },
        "id": "njSjkLved8vG",
        "outputId": "f03892cd-56f5-4c72-f395-b4d0710e5888"
      },
      "outputs": [
        {
          "output_type": "stream",
          "name": "stdout",
          "text": [
            "Collecting face_recognition\n",
            "  Downloading face_recognition-1.3.0-py2.py3-none-any.whl (15 kB)\n",
            "Requirement already satisfied: dlib>=19.7 in /usr/local/lib/python3.7/dist-packages (from face_recognition) (19.18.0)\n",
            "Requirement already satisfied: Click>=6.0 in /usr/local/lib/python3.7/dist-packages (from face_recognition) (7.1.2)\n",
            "Requirement already satisfied: numpy in /usr/local/lib/python3.7/dist-packages (from face_recognition) (1.21.6)\n",
            "Requirement already satisfied: Pillow in /usr/local/lib/python3.7/dist-packages (from face_recognition) (7.1.2)\n",
            "Collecting face-recognition-models>=0.3.0\n",
            "  Downloading face_recognition_models-0.3.0.tar.gz (100.1 MB)\n",
            "\u001b[K     |████████████████████████████████| 100.1 MB 21 kB/s \n",
            "\u001b[?25hBuilding wheels for collected packages: face-recognition-models\n",
            "  Building wheel for face-recognition-models (setup.py) ... \u001b[?25l\u001b[?25hdone\n",
            "  Created wheel for face-recognition-models: filename=face_recognition_models-0.3.0-py2.py3-none-any.whl size=100566186 sha256=ab6d7e5f07141b02cb9c7d9616e63735e42c848dde8b9474f30d222a5527076c\n",
            "  Stored in directory: /root/.cache/pip/wheels/d6/81/3c/884bcd5e1c120ff548d57c2ecc9ebf3281c9a6f7c0e7e7947a\n",
            "Successfully built face-recognition-models\n",
            "Installing collected packages: face-recognition-models, face-recognition\n",
            "Successfully installed face-recognition-1.3.0 face-recognition-models-0.3.0\n"
          ]
        }
      ],
      "source": [
        "!pip3 install face_recognition "
      ]
    },
    {
      "cell_type": "code",
      "execution_count": null,
      "metadata": {
        "id": "OsUJoBpV1QRl"
      },
      "outputs": [],
      "source": [
        "import os\n",
        "import glob\n",
        "import json\n",
        "import copy\n",
        "import random\n",
        "import time\n",
        "import sys\n",
        "import torch\n",
        "import cv2\n",
        "from torch import nn\n",
        "import seaborn as sn\n",
        "import pandas as pd\n",
        "import numpy as np\n",
        "import torchvision\n",
        "import face_recognition\n",
        "from torchvision import transforms\n",
        "from torch.utils.data import DataLoader\n",
        "from torch.utils.data.dataset import Dataset\n",
        "import matplotlib.pyplot as plt \n",
        "from torch.autograd import Variable\n",
        "import torch.nn.functional as F\n",
        "from torchvision import models\n",
        "from sklearn.metrics import confusion_matrix\n",
        "from sklearn.model_selection import train_test_split"
      ]
    },
    {
      "cell_type": "markdown",
      "metadata": {
        "id": "HoWTTdC39_H8"
      },
      "source": [
        "## **Helper Functions**"
      ]
    },
    {
      "cell_type": "code",
      "execution_count": null,
      "metadata": {
        "id": "ZHlBqwVn4Z8m"
      },
      "outputs": [],
      "source": [
        "#Function to plot the image\n",
        "def im_plot(tensor):\n",
        "    image = tensor.cpu().numpy().transpose(1,2,0)\n",
        "    b,g,r = cv2.split(image)\n",
        "    image = cv2.merge((r,g,b))\n",
        "    image = image*[0.22803, 0.22145, 0.216989] +  [0.43216, 0.394666, 0.37645]\n",
        "    image = image*255.0\n",
        "    plt.imshow(image.astype(int))\n",
        "    plt.show()"
      ]
    },
    {
      "cell_type": "code",
      "execution_count": null,
      "metadata": {
        "id": "3cB1FzWI3jKI"
      },
      "outputs": [],
      "source": [
        "#Function to calcuate accuracy\n",
        "def calculate_accuracy(outputs, targets):\n",
        "    batch_size = targets.size(0)\n",
        "\n",
        "    _, pred = outputs.topk(1, 1, True)\n",
        "    pred = pred.t()\n",
        "    correct = pred.eq(targets.view(1, -1))\n",
        "    n_correct_elems = correct.float().sum().item()\n",
        "    return 100* n_correct_elems / batch_size"
      ]
    },
    {
      "cell_type": "code",
      "execution_count": null,
      "metadata": {
        "id": "z4TdA98E4Z8o"
      },
      "outputs": [],
      "source": [
        "# Function to compute and store the average and current value\"\"\"\n",
        "class AverageMeter(object):\n",
        "    def __init__(self):\n",
        "        self.reset()\n",
        "    def reset(self):\n",
        "        self.val = 0\n",
        "        self.avg = 0\n",
        "        self.sum = 0\n",
        "        self.count = 0\n",
        "\n",
        "    def update(self, val, n=1):\n",
        "        self.val = val\n",
        "        self.sum += val * n\n",
        "        self.count += n\n",
        "        self.avg = self.sum / self.count"
      ]
    },
    {
      "cell_type": "code",
      "execution_count": null,
      "metadata": {
        "id": "rcG_mm_X1jJa"
      },
      "outputs": [],
      "source": [
        "#Function to print confusion matrix\n",
        "def print_confusion_matrix(y_true, y_pred):\n",
        "    cm = confusion_matrix(y_true, y_pred)\n",
        "    print('True positive = ', cm[0][0])\n",
        "    print('False positive = ', cm[0][1])\n",
        "    print('False negative = ', cm[1][0])\n",
        "    print('True negative = ', cm[1][1])\n",
        "    print('\\n')\n",
        "    df_cm = pd.DataFrame(cm, range(2), range(2))\n",
        "    sn.set(font_scale=1.4) # for label size\n",
        "    sn.heatmap(df_cm, annot=True, annot_kws={\"size\": 16}) # font size\n",
        "    plt.ylabel('Actual label', size = 20)\n",
        "    plt.xlabel('Predicted label', size = 20)\n",
        "    plt.xticks(np.arange(2), ['Fake', 'Real'], size = 16)\n",
        "    plt.yticks(np.arange(2), ['Fake', 'Real'], size = 16)\n",
        "    plt.ylim([2, 0])\n",
        "    plt.show()\n",
        "    calculated_acc = (cm[0][0]+cm[1][1])/(cm[0][0]+cm[0][1]+cm[1][0]+ cm[1][1])\n",
        "    print(\"Calculated Accuracy\",calculated_acc*100)"
      ]
    },
    {
      "cell_type": "code",
      "execution_count": null,
      "metadata": {
        "id": "ahLmAKHq1ls1"
      },
      "outputs": [],
      "source": [
        "#Function for plotting loss and accuracy\n",
        "def plot_loss(train_loss_avg,test_loss_avg,num_epochs):\n",
        "    loss_train = train_loss_avg\n",
        "    loss_val = test_loss_avg\n",
        "    #print(num_epochs)\n",
        "    epochs = range(1,num_epochs+1)\n",
        "    plt.plot(epochs, loss_train, 'g', label='Training loss')\n",
        "    plt.plot(epochs, loss_val, 'b', label='validation loss')\n",
        "    plt.title('Training and Validation loss')\n",
        "    plt.xlabel('Epochs')\n",
        "    plt.ylabel('Loss')\n",
        "    plt.legend()\n",
        "    plt.show()\n",
        "def plot_accuracy(train_accuracy,test_accuracy,num_epochs):\n",
        "    loss_train = train_accuracy\n",
        "    loss_val = test_accuracy\n",
        "    epochs = range(1,num_epochs+1)\n",
        "    plt.plot(epochs, loss_train, 'g', label='Training accuracy')\n",
        "    plt.plot(epochs, loss_val, 'b', label='validation accuracy')\n",
        "    plt.title('Training and Validation accuracy')\n",
        "    plt.xlabel('Epochs')\n",
        "    plt.ylabel('Accuracy')\n",
        "    plt.legend()\n",
        "    plt.show()"
      ]
    },
    {
      "cell_type": "markdown",
      "metadata": {
        "id": "8_uvMyTL-U6R"
      },
      "source": [
        "##**Data Preprocessing**"
      ]
    },
    {
      "cell_type": "code",
      "execution_count": null,
      "metadata": {
        "colab": {
          "base_uri": "https://localhost:8080/"
        },
        "id": "djeUwxnle2nB",
        "outputId": "0256a948-132c-4bd1-deea-c1a3fdcffd86"
      },
      "outputs": [
        {
          "name": "stdout",
          "output_type": "stream",
          "text": [
            "Total no of videos : 1168\n",
            "Finished Validating Videos\n"
          ]
        }
      ],
      "source": [
        "#Function to check valid videos \n",
        "def validate_video(vid_path,train_transforms):\n",
        "      transform = train_transforms\n",
        "      count=20\n",
        "      video_path = vid_path\n",
        "      frames = []\n",
        "      temp_video = video_path.split('/')[-1]\n",
        "      for i,frame in enumerate(frame_extract(video_path)):\n",
        "        frames.append(transform(frame))\n",
        "        if(len(frames) == count):  #check if no. of  frames is equal to a minimum count\n",
        "          break\n",
        "      frames = torch.stack(frames)\n",
        "      frames = frames[:count]\n",
        "      return frames\n",
        "      \n",
        "#extract a from from video\n",
        "def frame_extract(path):\n",
        "  vidObj = cv2.VideoCapture(path) \n",
        "  success = 1\n",
        "  while success:\n",
        "      success, image = vidObj.read()\n",
        "      if success:\n",
        "          yield image\n",
        "\n",
        "#apply transformations to frames\n",
        "im_size = 112\n",
        "mean = [0.485, 0.456, 0.406]\n",
        "std = [0.229, 0.224, 0.225]\n",
        "train_transforms = transforms.Compose([\n",
        "                                        transforms.ToPILImage(),\n",
        "                                        transforms.Resize((im_size,im_size)),\n",
        "                                        transforms.ToTensor(),\n",
        "                                        transforms.Normalize(mean,std)]) \n",
        "video_fil =  glob.glob('/content/drive/MyDrive/Celeb_real_face_only/*.mp4')\n",
        "video_fil += glob.glob('/content/drive/MyDrive/Celeb_fake_face_only/*.mp4')\n",
        "\n",
        "print(\"Total no of videos :\" , len(video_fil))\n",
        "count = 0;\n",
        "for i in video_fil:\n",
        "  try:\n",
        "    count+=1\n",
        "    validate_video(i,train_transforms)\n",
        "  except:\n",
        "    print(\"Number of video processed: \" , count ,\" Remaining : \" , (len(video_fil) - count))\n",
        "    print(\"Corrupted video is : \" , i)\n",
        "    continue\n",
        "print(\"Finished Validating Videos\") "
      ]
    },
    {
      "cell_type": "code",
      "execution_count": null,
      "metadata": {
        "colab": {
          "base_uri": "https://localhost:8080/"
        },
        "id": "2-ApV_fAfmS_",
        "outputId": "bfe217b9-355a-46f2-b663-63ab10faf541"
      },
      "outputs": [
        {
          "name": "stdout",
          "output_type": "stream",
          "text": [
            "Average frame per video: 147.95719178082192\n"
          ]
        }
      ],
      "source": [
        "#read files\n",
        "video_files =  glob.glob('/content/drive/MyDrive/Celeb_real_face_only/*.mp4')\n",
        "video_files += glob.glob('/content/drive/MyDrive/Celeb_fake_face_only/*.mp4')\n",
        "\n",
        "\n",
        "random.shuffle(video_files)\n",
        "\n",
        "frame_count = []\n",
        "\n",
        "#check the average no. of frames in the input samples.\n",
        "for video_file in video_files:\n",
        "    cap = cv2.VideoCapture(video_file)\n",
        "    if(int(cap.get(cv2.CAP_PROP_FRAME_COUNT))<100):\n",
        "        video_files.remove(video_file)\n",
        "        continue\n",
        "    frame_count.append(int(cap.get(cv2.CAP_PROP_FRAME_COUNT)))\n",
        "print('Average frame per video:',np.mean(frame_count))"
      ]
    },
    {
      "cell_type": "markdown",
      "metadata": {
        "id": "-HvqqUTM-gTT"
      },
      "source": [
        "## **Data Splitting and Loading**"
      ]
    },
    {
      "cell_type": "code",
      "execution_count": null,
      "metadata": {
        "id": "m-wW3CrFhd7J"
      },
      "outputs": [],
      "source": [
        "class video_dataset(Dataset):\n",
        "    def __init__(self,video_names,labels,sequence_length = 60,transform = None):\n",
        "        self.video_names = video_names\n",
        "        self.labels = labels\n",
        "        self.transform = transform\n",
        "        self.count = sequence_length\n",
        "    \n",
        "    def __len__(self):\n",
        "        return len(self.video_names)\n",
        "    \n",
        "    def __getitem__(self,idx):\n",
        "        video_path = self.video_names[idx]\n",
        "        frames = []\n",
        "        \n",
        "        #read video\n",
        "        temp_video = video_path.split('/')[-1]\n",
        "        label = self.labels.iloc[(labels.loc[labels[\"file\"] == temp_video].index.values[0]),1]\n",
        "        \n",
        "        #assign labels\n",
        "        if(label == 'FAKE'):\n",
        "            label = 0\n",
        "        if(label == 'REAL'):\n",
        "            label = 1\n",
        "        \n",
        "        #extract frames and form a stack of frames   \n",
        "        for i,frame in enumerate(self.frame_extract(video_path)):\n",
        "            frames.append(self.transform(frame))\n",
        "            if(len(frames) == self.count):\n",
        "                break\n",
        "        frames = torch.stack(frames)\n",
        "        frames = frames[:self.count]\n",
        "        return frames,label\n",
        "    \n",
        "    def frame_extract(self,path):\n",
        "        vidObj = cv2.VideoCapture(path) \n",
        "        success = 1\n",
        "        while success:\n",
        "            success, image = vidObj.read()\n",
        "            if success:\n",
        "                  yield image"
      ]
    },
    {
      "cell_type": "code",
      "execution_count": null,
      "metadata": {
        "id": "9v1U7bX-hwJj"
      },
      "outputs": [],
      "source": [
        "#Function to count the number of fake and real videos\n",
        "def number_of_real_and_fake_videos(data_list):\n",
        "    header_list = [\"file\",\"label\"]\n",
        "    lab = pd.read_csv('/content/drive/MyDrive/Gobal_metadata.csv',names=header_list)\n",
        "    \n",
        "    fake = 0\n",
        "    real = 0\n",
        "    for i in data_list:\n",
        "        temp_video = i.split('/')[-1]\n",
        "        label = lab.iloc[(labels.loc[labels[\"file\"] == temp_video].index.values[0]),1]\n",
        "        if(label == 'FAKE'):\n",
        "            fake+=1\n",
        "        if(label == 'REAL'):\n",
        "            real+=1\n",
        "    return real,fake"
      ]
    },
    {
      "cell_type": "code",
      "execution_count": null,
      "metadata": {
        "colab": {
          "base_uri": "https://localhost:8080/",
          "height": 410
        },
        "id": "JyumMDYFh0HY",
        "outputId": "9e3e260e-f690-4f9c-81e9-0a6d42ece341"
      },
      "outputs": [
        {
          "name": "stdout",
          "output_type": "stream",
          "text": [
            "train :  934\n",
            "test :  234\n",
            "TRAIN:  Real: 479  Fake: 455\n"
          ]
        },
        {
          "name": "stderr",
          "output_type": "stream",
          "text": [
            "Clipping input data to the valid range for imshow with RGB data ([0..1] for floats or [0..255] for integers).\n"
          ]
        },
        {
          "name": "stdout",
          "output_type": "stream",
          "text": [
            "TEST:  Real: 109  Fake: 125\n"
          ]
        },
        {
          "data": {
            "image/png": "[encoded data removed]",
            "text/plain": [
              "<Figure size 432x288 with 1 Axes>"
            ]
          },
          "metadata": {
            "needs_background": "light"
          },
          "output_type": "display_data"
        }
      ],
      "source": [
        "header_list = [\"file\",\"label\"]\n",
        "#read the metadata\n",
        "labels = pd.read_csv('/content/drive/MyDrive/Gobal_metadata.csv',names=header_list)\n",
        "\n",
        "#split the data into train and test\n",
        "train_videos = video_files[:int(0.8*len(video_files))]\n",
        "valid_videos = video_files[int(0.8*len(video_files)):]\n",
        "print(\"train : \" , len(train_videos))\n",
        "print(\"test : \" , len(valid_videos))\n",
        "\n",
        "print(\"TRAIN: \", \"Real:\",number_of_real_and_fake_videos(train_videos)[0],\" Fake:\",number_of_real_and_fake_videos(train_videos)[1])\n",
        "print(\"TEST: \", \"Real:\",number_of_real_and_fake_videos(valid_videos)[0],\" Fake:\",number_of_real_and_fake_videos(valid_videos)[1])\n",
        "\n",
        "\n",
        "#Augment the data by applying transformations to train and test set\n",
        "im_size = 112\n",
        "mean = [0.485, 0.456, 0.406]\n",
        "std = [0.229, 0.224, 0.225]\n",
        "train_transforms = transforms.Compose([\n",
        "                                        transforms.ToPILImage(),\n",
        "                                        transforms.Resize((im_size,im_size)),\n",
        "                                        transforms.RandomRotation(10),\n",
        "                                        transforms.GaussianBlur(kernel_size=(5,5), sigma=(0.5, 0.5)),\n",
        "                                        transforms.ToTensor(),\n",
        "                                        transforms.Normalize(mean,std)])\n",
        "\n",
        "test_transforms = transforms.Compose([\n",
        "                                        transforms.ToPILImage(),\n",
        "                                        transforms.Resize((im_size,im_size)),\n",
        "                                        transforms.ToTensor(),\n",
        "                                        transforms.Normalize(mean,std)])\n",
        "\n",
        "#preprocess the data\n",
        "train_data = video_dataset(train_videos,labels,sequence_length = 15,transform = train_transforms)\n",
        "val_data = video_dataset(valid_videos,labels,sequence_length = 15,transform = test_transforms)\n",
        "\n",
        "#load the data into dataloaders\n",
        "train_loader = DataLoader(train_data,batch_size = 16,shuffle = True,num_workers = 4)\n",
        "valid_loader = DataLoader(val_data,batch_size = 16,shuffle = True,num_workers = 4)\n",
        "\n",
        "#plot the data\n",
        "image,label = train_data[0]\n",
        "im_plot(image[0,:,:,:])"
      ]
    },
    {
      "cell_type": "markdown",
      "metadata": {
        "id": "XWCZjsa7-3L7"
      },
      "source": [
        "## **Model 1 : Convolution Neural Network**"
      ]
    },
    {
      "cell_type": "code",
      "execution_count": null,
      "metadata": {
        "id": "q7SfX_ZL8jUB"
      },
      "outputs": [],
      "source": [
        "#Baseline CNN Model\n",
        "class CNNModel(nn.Module):\n",
        "    def __init__(self):\n",
        "        super(CNNModel, self).__init__()\n",
        "        self.conv1 = nn.Conv2d(3,32, kernel_size=(3, 3))\n",
        "        self.conv2 = nn.Conv2d(32,32, kernel_size=(3, 3))\n",
        "        self.max1 = nn.MaxPool2d(kernel_size=(2, 2))\n",
        "        self.conv3 = nn.Conv2d(32,64, kernel_size=(3, 3))\n",
        "        self.conv4 = nn.Conv2d(64,64, kernel_size=(3, 3))\n",
        "        self.max2 = nn.MaxPool2d(kernel_size=(2, 2))\n",
        "        self.conv5 = nn.Conv2d(64,128, kernel_size=(3, 3))\n",
        "        self.conv6 = nn.Conv2d(128,128, kernel_size=(3, 3))\n",
        "        self.max3 = nn.AvgPool2d(kernel_size=(2, 2))\n",
        "        self.drop = nn.Dropout(p=0.3)\n",
        "\n",
        "        # 4x dense layers to learn from features extracted from convolutions\n",
        "        self.l1 = nn.Linear(12800,584)\n",
        "        self.l2 = nn.Linear(584,128)\n",
        "        self.l3 = nn.Linear(128,32)\n",
        "        self.l4 = nn.Linear(32,2) \n",
        "\n",
        "    def forward(self, x):\n",
        "                \n",
        "        batch_size,seq_length, c, h, w = x.shape\n",
        "        x = x.view(batch_size * seq_length, c, h, w)\n",
        "        x = F.relu(self.conv1(x)) \n",
        "        x = F.relu(self.conv2(x))\n",
        "        x = self.max1(x)\n",
        "        x = F.relu(self.conv3(x))\n",
        "        x = F.relu(self.conv4(x))\n",
        "        x = self.max2(x)\n",
        "        x = F.relu(self.conv5(x))\n",
        "        x = F.relu(self.conv6(x))\n",
        "        x = self.max3(x)        \n",
        "        x = x.view(x.shape[0],-1)\n",
        "        x = F.leaky_relu(self.l1(x))   \n",
        "        x = F.leaky_relu(self.l2(x))\n",
        "        x = self.drop(x)\n",
        "        x = F.relu(self.l3(x))\n",
        "        x = self.l4(x)\n",
        "        output = F.softmax(x, dim=1)\n",
        "        return output\n"
      ]
    },
    {
      "cell_type": "code",
      "execution_count": null,
      "metadata": {
        "id": "myDVrAmO9L6E"
      },
      "outputs": [],
      "source": [
        "#instantiate the model\n",
        "model1 = CNNModel().cuda()"
      ]
    },
    {
      "cell_type": "code",
      "execution_count": null,
      "metadata": {
        "id": "pgnylhHX9Og_"
      },
      "outputs": [],
      "source": [
        "#train function for CNN Model\n",
        "def train_epoch(epoch, num_epochs, data_loader, model, criterion, optimizer):\n",
        "    model.train()\n",
        "    losses = AverageMeter()\n",
        "    accuracies = AverageMeter()\n",
        "    t = []\n",
        "    for i, (inputs, targets) in enumerate(data_loader):\n",
        "       \n",
        "        if torch.cuda.is_available():\n",
        "            targets = targets.type(torch.cuda.LongTensor)\n",
        "            inputs = inputs.cuda()\n",
        "        \n",
        "        bs,seq_length, c, h, w = inputs.shape\n",
        "        outputs = model(inputs)   #call the model with inputs\n",
        "        results = torch.zeros((bs,2)).cuda()\n",
        "        c = 0 \n",
        "\n",
        "        #calculate the mean output for each frame in the input sequence.\n",
        "        for j in range(0,bs,seq_length):\n",
        "            results[c] = torch.mean(outputs[j:j+seq_length],dim=0)\n",
        "            c = c+1    \n",
        "\n",
        "        #calculate loss and accuracy\n",
        "        loss  = criterion(results,targets.type(torch.cuda.LongTensor))    \n",
        "        acc = calculate_accuracy(results, targets.type(torch.cuda.LongTensor))\n",
        "        losses.update(loss.item(), inputs.size(0))\n",
        "        accuracies.update(acc, inputs.size(0))\n",
        "        \n",
        "        optimizer.zero_grad()\n",
        "        loss.backward()\n",
        "        optimizer.step()\n",
        "        sys.stdout.write( \n",
        "                \"\\r[Epoch %d/%d] [Batch %d / %d] [Loss: %f, Acc: %.2f%%]\"\n",
        "                % (\n",
        "                    epoch,\n",
        "                    num_epochs,\n",
        "                    i,\n",
        "                    len(data_loader),\n",
        "                    losses.avg,\n",
        "                    accuracies.avg))\n",
        "    torch.save(model.state_dict(),'/content/CNN_Model.pt')\n",
        "    return losses.avg,accuracies.avg\n",
        "\n",
        "#test function\n",
        "def test(epoch,model, data_loader ,criterion):\n",
        "    print('Testing')\n",
        "    model.eval()\n",
        "    losses = AverageMeter()\n",
        "    accuracies = AverageMeter()\n",
        "    pred = []\n",
        "    true = []\n",
        "    count = 0\n",
        "    with torch.no_grad():\n",
        "        for i, (inputs, targets) in enumerate(data_loader):\n",
        "            if torch.cuda.is_available():\n",
        "                targets = targets.cuda().type(torch.cuda.LongTensor)\n",
        "                inputs = inputs.cuda()\n",
        "           \n",
        "\n",
        "            batch_size,seq_length, c, h, w = inputs.shape\n",
        "            outputs = model(inputs)\n",
        "            results = torch.zeros((batch_size,2)).cuda()\n",
        "            c = 0\n",
        "            for j in range(0,batch_size,seq_length):\n",
        "                results[c] = torch.mean(outputs[j:j+seq_length],dim=0)\n",
        "                c = c+1\n",
        "            loss = torch.mean(criterion(results, targets.type(torch.cuda.LongTensor)))\n",
        "            acc = calculate_accuracy(results,targets.type(torch.cuda.LongTensor))\n",
        "            _,p = torch.max(results,1) \n",
        "            true += (targets.type(torch.cuda.LongTensor)).detach().cpu().numpy().reshape(len(targets)).tolist()\n",
        "            pred += p.detach().cpu().numpy().reshape(len(p)).tolist()\n",
        "            losses.update(loss.item(), inputs.size(0))\n",
        "            accuracies.update(acc, inputs.size(0))\n",
        "            sys.stdout.write(\n",
        "                    \"\\r[Batch %d / %d]  [Loss: %f, Acc: %.2f%%]\"\n",
        "                    % (\n",
        "                        i,\n",
        "                        len(data_loader),\n",
        "                        losses.avg,\n",
        "                        accuracies.avg\n",
        "                        )\n",
        "                    )\n",
        "        print('\\nAccuracy {}'.format(accuracies.avg))\n",
        "    return true,pred,losses.avg,accuracies.avg"
      ]
    },
    {
      "cell_type": "code",
      "execution_count": null,
      "metadata": {
        "colab": {
          "base_uri": "https://localhost:8080/",
          "height": 688
        },
        "id": "OEFLTp_V9-Zs",
        "outputId": "47b241f6-f610-4150-d47b-c2eeecfa0546"
      },
      "outputs": [
        {
          "name": "stdout",
          "output_type": "stream",
          "text": [
            "[Epoch 1/20] [Batch 58 / 59] [Loss: 0.693504, Acc: 49.36%]Testing\n",
            "[Batch 14 / 15]  [Loss: 0.692863, Acc: 50.85%]\n",
            "Accuracy 50.85470085470085\n",
            "[Epoch 2/20] [Batch 58 / 59] [Loss: 0.693180, Acc: 49.79%]Testing\n",
            "[Batch 14 / 15]  [Loss: 0.693179, Acc: 44.87%]\n",
            "Accuracy 44.87179487179487\n",
            "[Epoch 3/20] [Batch 58 / 59] [Loss: 0.693148, Acc: 49.89%]Testing\n",
            "[Batch 14 / 15]  [Loss: 0.693106, Acc: 47.01%]\n",
            "Accuracy 47.00854700854701\n",
            "[Epoch 4/20] [Batch 58 / 59] [Loss: 0.693238, Acc: 50.32%]Testing\n",
            "[Batch 14 / 15]  [Loss: 0.693303, Acc: 47.01%]\n",
            "Accuracy 47.00854700854701\n",
            "[Epoch 5/20] [Batch 58 / 59] [Loss: 0.693207, Acc: 50.21%]Testing\n",
            "[Batch 14 / 15]  [Loss: 0.693180, Acc: 47.01%]\n",
            "Accuracy 47.00854700854701\n",
            "[Epoch 6/20] [Batch 58 / 59] [Loss: 0.693093, Acc: 50.32%]Testing\n",
            "[Batch 14 / 15]  [Loss: 0.693474, Acc: 47.01%]\n",
            "Accuracy 47.00854700854701\n",
            "[Epoch 7/20] [Batch 58 / 59] [Loss: 0.693385, Acc: 50.32%]Testing\n",
            "[Batch 14 / 15]  [Loss: 0.693194, Acc: 47.01%]\n",
            "Accuracy 47.00854700854701\n",
            "[Epoch 8/20] [Batch 58 / 59] [Loss: 0.693243, Acc: 50.32%]Testing\n",
            "[Batch 14 / 15]  [Loss: 0.693118, Acc: 47.01%]\n",
            "Accuracy 47.00854700854701\n",
            "[Epoch 9/20] [Batch 58 / 59] [Loss: 0.693173, Acc: 48.82%]Testing\n",
            "[Batch 14 / 15]  [Loss: 0.693109, Acc: 47.01%]\n",
            "Accuracy 47.00854700854701\n",
            "[Epoch 10/20] [Batch 58 / 59] [Loss: 0.692923, Acc: 53.00%]Testing\n",
            "[Batch 14 / 15]  [Loss: 0.692829, Acc: 48.29%]\n",
            "Accuracy 48.29059829059829\n",
            "[Epoch 11/20] [Batch 58 / 59] [Loss: 0.693346, Acc: 49.79%]Testing\n",
            "[Batch 14 / 15]  [Loss: 0.692928, Acc: 48.29%]\n",
            "Accuracy 48.29059829059829\n",
            "[Epoch 12/20] [Batch 58 / 59] [Loss: 0.693107, Acc: 50.86%]Testing\n",
            "[Batch 14 / 15]  [Loss: 0.692437, Acc: 50.85%]\n",
            "Accuracy 50.85470085470085\n",
            "[Epoch 13/20] [Batch 58 / 59] [Loss: 0.693213, Acc: 50.21%]Testing\n",
            "[Batch 14 / 15]  [Loss: 0.692786, Acc: 49.15%]\n",
            "Accuracy 49.14529914529915\n",
            "[Epoch 14/20] [Batch 58 / 59] [Loss: 0.693140, Acc: 50.64%]Testing\n",
            "[Batch 14 / 15]  [Loss: 0.693243, Acc: 46.58%]\n",
            "Accuracy 46.58119658119658\n",
            "[Epoch 15/20] [Batch 58 / 59] [Loss: 0.693052, Acc: 51.07%]Testing\n",
            "[Batch 14 / 15]  [Loss: 0.692931, Acc: 48.29%]\n",
            "Accuracy 48.29059829059829\n",
            "[Epoch 16/20] [Batch 58 / 59] [Loss: 0.692956, Acc: 51.50%]Testing\n",
            "[Batch 14 / 15]  [Loss: 0.693782, Acc: 44.87%]\n",
            "Accuracy 44.87179487179487\n",
            "[Epoch 17/20] [Batch 58 / 59] [Loss: 0.693254, Acc: 50.43%]Testing\n",
            "[Batch 14 / 15]  [Loss: 0.692238, Acc: 50.85%]\n",
            "Accuracy 50.85470085470085\n",
            "[Epoch 18/20] [Batch 58 / 59] [Loss: 0.693013, Acc: 51.07%]Testing\n",
            "[Batch 14 / 15]  [Loss: 0.692572, Acc: 49.15%]\n",
            "Accuracy 49.14529914529915\n",
            "[Epoch 19/20] [Batch 58 / 59] [Loss: 0.693664, Acc: 48.93%]Testing\n",
            "[Batch 14 / 15]  [Loss: 0.693081, Acc: 47.44%]\n",
            "Accuracy 47.43589743589744\n",
            "[Epoch 20/20] [Batch 58 / 59] [Loss: 0.693370, Acc: 49.57%]Testing\n",
            "[Batch 14 / 15]  [Loss: 0.692779, Acc: 49.15%]\n",
            "Accuracy 49.14529914529915\n"
          ]
        }
      ],
      "source": [
        "#learning rate\n",
        "lr = 0.001\n",
        "\n",
        "#number of epochs \n",
        "num_epochs = 20\n",
        "\n",
        "optimizer = torch.optim.Adam(model1.parameters(), lr= lr)\n",
        "\n",
        "criterion = nn.CrossEntropyLoss().cuda()\n",
        "train_loss_avg =[]\n",
        "train_accuracy = []\n",
        "test_loss_avg = []\n",
        "test_accuracy = []\n",
        "for epoch in range(1,num_epochs+1):\n",
        "    l, acc = train_epoch(epoch,num_epochs,train_loader,model1,criterion,optimizer)\n",
        "    train_loss_avg.append(l)\n",
        "    train_accuracy.append(acc)\n",
        "    true,pred,tl,t_acc = test(epoch,model1,valid_loader,criterion)\n",
        "    test_loss_avg.append(tl)\n",
        "    test_accuracy.append(t_acc)"
      ]
    },
    {
      "cell_type": "code",
      "execution_count": null,
      "metadata": {
        "colab": {
          "base_uri": "https://localhost:8080/",
          "height": 590
        },
        "id": "oJeutT7238Iu",
        "outputId": "1bd310ae-48de-44fe-c834-fad68faf13af"
      },
      "outputs": [
        {
          "data": {
            "image/png": "[encoded data removed]",
            "text/plain": [
              "<Figure size 432x288 with 1 Axes>"
            ]
          },
          "metadata": {
            "needs_background": "light"
          },
          "output_type": "display_data"
        },
        {
          "data": {
            "image/png": "[encoded data removed]",
            "text/plain": [
              "<Figure size 432x288 with 1 Axes>"
            ]
          },
          "metadata": {
            "needs_background": "light"
          },
          "output_type": "display_data"
        }
      ],
      "source": [
        "#plot of loss and accuracy for CNN\n",
        "plot_loss(train_loss_avg,test_loss_avg,len(train_loss_avg))\n",
        "plot_accuracy(train_accuracy,test_accuracy,len(train_accuracy))"
      ]
    },
    {
      "cell_type": "code",
      "execution_count": null,
      "metadata": {
        "colab": {
          "base_uri": "https://localhost:8080/",
          "height": 470
        },
        "id": "BKvFdXwg39u-",
        "outputId": "e3fc9e4a-c29d-411a-d6d9-57c4bb4d8acb"
      },
      "outputs": [
        {
          "name": "stdout",
          "output_type": "stream",
          "text": [
            "[[ 98  12]\n",
            " [107  17]]\n",
            "True positive =  98\n",
            "False positive =  12\n",
            "False negative =  107\n",
            "True negative =  17\n",
            "\n",
            "\n"
          ]
        },
        {
          "data": {
            "image/png": "[encoded data removed]",
            "text/plain": [
              "<Figure size 432x288 with 2 Axes>"
            ]
          },
          "metadata": {},
          "output_type": "display_data"
        },
        {
          "name": "stdout",
          "output_type": "stream",
          "text": [
            "Calculated Accuracy 49.14529914529914\n"
          ]
        }
      ],
      "source": [
        "#confusion matrix for CNN \n",
        "print(confusion_matrix(true,pred)) \n",
        "print_confusion_matrix(true,pred) "
      ]
    },
    {
      "cell_type": "markdown",
      "metadata": {
        "id": "5NfqOj-y_I3v"
      },
      "source": [
        "## **Model 2: ResNext + LSTM**"
      ]
    },
    {
      "cell_type": "code",
      "execution_count": null,
      "metadata": {
        "id": "Npw9Tk0DfFUs"
      },
      "outputs": [],
      "source": [
        "# Model with Pretrained ResNext with LSTM layers\n",
        "class ResNext_LSTM_Model(nn.Module):\n",
        "    def __init__(self, num_classes,latent_dim= 2048, lstm_layers=1 , hidden_dim = 2048, bidirectional = False):\n",
        "        super(ResNext_LSTM_Model, self).__init__()\n",
        "        model = models.resnext50_32x4d(pretrained = True) #Residual Network CNN pretrained model\n",
        "        self.model = nn.Sequential(*list(model.children())[:-2])\n",
        "        self.lstm = nn.LSTM(latent_dim,hidden_dim, lstm_layers,  bidirectional) #LSTM Layer\n",
        "        self.relu = nn.LeakyReLU()\n",
        "        self.dp = nn.Dropout(0.4)\n",
        "        self.linear1 = nn.Linear(2048,512)\n",
        "        self.linear2 = nn.Linear(512,num_classes)\n",
        "        self.avgpool = nn.AdaptiveAvgPool2d(1)\n",
        "\n",
        "    def forward(self, x):\n",
        "        batch_size,seq_length, c, h, w = x.shape\n",
        "        x = x.view(batch_size * seq_length, c, h, w)\n",
        "        fmap = self.model(x)\n",
        "        x = self.avgpool(self.relu(fmap))\n",
        "        x = x.view(batch_size,seq_length,2048)\n",
        "        x_lstm,_ = self.lstm(x,None)\n",
        "        x = F.relu(self.linear1(torch.mean(x_lstm,dim = 1)))\n",
        "        x = self.dp(x)\n",
        "        x = self.linear2(x)\n",
        "        return fmap, x #return the feature map from ResNext and model output"
      ]
    },
    {
      "cell_type": "code",
      "execution_count": null,
      "metadata": {
        "id": "vQ0Losd0HgJz",
        "colab": {
          "base_uri": "https://localhost:8080/",
          "height": 86,
          "referenced_widgets": [
            "f700981ba61d4915929a6ebf4075b9c3",
            "b03380f807d64d4cb634c795e7997026",
            "48b28a9d41e94c06b2a2bfee84680179",
            "6878c18d29844de0b95b008b98a9d6ba",
            "548a28616c9b4e87b13bf3ba90e98854",
            "948e842185c34823bd87292d082a5bbb",
            "4f5bb62b782e416a89e803b896e9b50c",
            "55ac171d66ee40dc850876367d712433",
            "2a2c729a627040eb8bbee0dadd6f009c",
            "eeebe7bc19184527825ef87bdfec5b0e",
            "85fc306ca1cf44e8ac98271ef15e01b4"
          ]
        },
        "outputId": "710de761-c1e3-42fb-9037-ce87d4a90d81"
      },
      "outputs": [
        {
          "output_type": "stream",
          "name": "stderr",
          "text": [
            "Downloading: \"https://download.pytorch.org/models/resnext50_32x4d-7cdf4587.pth\" to /root/.cache/torch/hub/checkpoints/resnext50_32x4d-7cdf4587.pth\n"
          ]
        },
        {
          "output_type": "display_data",
          "data": {
            "text/plain": [
              "  0%|          | 0.00/95.8M [00:00<?, ?B/s]"
            ],
            "application/vnd.jupyter.widget-view+json": {
              "version_major": 2,
              "version_minor": 0,
              "model_id": "f700981ba61d4915929a6ebf4075b9c3"
            }
          },
          "metadata": {}
        }
      ],
      "source": [
        "#instantiate the model\n",
        "model2 = ResNext_LSTM_Model(2).cuda()"
      ]
    },
    {
      "cell_type": "code",
      "execution_count": null,
      "metadata": {
        "id": "8HsuhlXHfPE6"
      },
      "outputs": [],
      "source": [
        "#Train funtion for ResNext_LSTM_Model\n",
        "def train_epoch(epoch, num_epochs, data_loader, model, criterion, optimizer):\n",
        "    model.train()\n",
        "    losses = AverageMeter()\n",
        "    accuracies = AverageMeter()\n",
        "    t = []\n",
        "    for i, (inputs, targets) in enumerate(data_loader):\n",
        "        if torch.cuda.is_available():\n",
        "            targets = targets.type(torch.cuda.LongTensor)\n",
        "            inputs = inputs.cuda()\n",
        "        _,outputs = model(inputs)\n",
        "        loss  = criterion(outputs,targets.type(torch.cuda.LongTensor))\n",
        "        acc = calculate_accuracy(outputs, targets.type(torch.cuda.LongTensor))\n",
        "        losses.update(loss.item(), inputs.size(0))\n",
        "        accuracies.update(acc, inputs.size(0))\n",
        "        optimizer.zero_grad()\n",
        "        loss.backward()\n",
        "        optimizer.step()\n",
        "        sys.stdout.write(\n",
        "                \"\\r[Epoch %d/%d] [Batch %d / %d] [Loss: %f, Acc: %.2f%%]\"\n",
        "                % (\n",
        "                    epoch,\n",
        "                    num_epochs,\n",
        "                    i,\n",
        "                    len(data_loader),\n",
        "                    losses.avg,\n",
        "                    accuracies.avg))\n",
        "    torch.save(model.state_dict(),'/content/ResNext_LSTM_Model.pt') #save the model\n",
        "    return losses.avg,accuracies.avg\n",
        "\n",
        "#Test Function for ResNext_LSTM_Model\n",
        "def test(epoch,model, data_loader ,criterion):\n",
        "    print('Testing')\n",
        "    model.eval()\n",
        "    losses = AverageMeter()\n",
        "    accuracies = AverageMeter()\n",
        "    pred = []\n",
        "    true = []\n",
        "    count = 0\n",
        "    with torch.no_grad():\n",
        "        for i, (inputs, targets) in enumerate(data_loader):\n",
        "            if torch.cuda.is_available():\n",
        "                targets = targets.cuda().type(torch.cuda.FloatTensor)\n",
        "                inputs = inputs.cuda()\n",
        "            _,outputs = model(inputs)\n",
        "            loss = torch.mean(criterion(outputs, targets.type(torch.cuda.LongTensor)))\n",
        "            acc = calculate_accuracy(outputs,targets.type(torch.cuda.LongTensor))\n",
        "            _,p = torch.max(outputs,1) \n",
        "            true += (targets.type(torch.cuda.LongTensor)).detach().cpu().numpy().reshape(len(targets)).tolist()\n",
        "            pred += p.detach().cpu().numpy().reshape(len(p)).tolist()\n",
        "            losses.update(loss.item(), inputs.size(0))\n",
        "            accuracies.update(acc, inputs.size(0))\n",
        "            sys.stdout.write(\n",
        "                    \"\\r[Batch %d / %d]  [Loss: %f, Acc: %.2f%%]\"\n",
        "                    % (\n",
        "                        i,\n",
        "                        len(data_loader),\n",
        "                        losses.avg,\n",
        "                        accuracies.avg\n",
        "                        )\n",
        "                    )\n",
        "        print('\\nAccuracy {}'.format(accuracies.avg))\n",
        "    return true,pred,losses.avg,accuracies.avg"
      ]
    },
    {
      "cell_type": "code",
      "execution_count": null,
      "metadata": {
        "colab": {
          "base_uri": "https://localhost:8080/"
        },
        "id": "NyHa_f8qfeFE",
        "outputId": "d1bafb60-0421-408b-86f5-5cea1a2fb7cc"
      },
      "outputs": [
        {
          "name": "stdout",
          "output_type": "stream",
          "text": [
            "[Epoch 1/10] [Batch 58 / 59] [Loss: 0.691831, Acc: 53.21%]Testing\n",
            "[Batch 14 / 15]  [Loss: 0.683294, Acc: 54.27%]\n",
            "Accuracy 54.27350427350427\n",
            "[Epoch 2/10] [Batch 58 / 59] [Loss: 0.666473, Acc: 64.24%]Testing\n",
            "[Batch 14 / 15]  [Loss: 0.643949, Acc: 68.38%]\n",
            "Accuracy 68.37606837606837\n",
            "[Epoch 3/10] [Batch 58 / 59] [Loss: 0.517080, Acc: 80.73%]Testing\n",
            "[Batch 14 / 15]  [Loss: 0.529146, Acc: 73.50%]\n",
            "Accuracy 73.5042735042735\n",
            "[Epoch 4/10] [Batch 58 / 59] [Loss: 0.278978, Acc: 89.61%]Testing\n",
            "[Batch 14 / 15]  [Loss: 0.366441, Acc: 83.33%]\n",
            "Accuracy 83.33333333333333\n",
            "[Epoch 5/10] [Batch 58 / 59] [Loss: 0.166457, Acc: 94.43%]Testing\n",
            "[Batch 14 / 15]  [Loss: 0.316760, Acc: 86.75%]\n",
            "Accuracy 86.75213675213675\n",
            "[Epoch 6/10] [Batch 58 / 59] [Loss: 0.109028, Acc: 96.36%]Testing\n",
            "[Batch 14 / 15]  [Loss: 0.326802, Acc: 86.32%]\n",
            "Accuracy 86.32478632478633\n",
            "[Epoch 7/10] [Batch 58 / 59] [Loss: 0.076024, Acc: 97.11%]Testing\n",
            "[Batch 14 / 15]  [Loss: 0.397391, Acc: 85.04%]\n",
            "Accuracy 85.04273504273505\n",
            "[Epoch 8/10] [Batch 58 / 59] [Loss: 0.073843, Acc: 97.64%]Testing\n",
            "[Batch 14 / 15]  [Loss: 0.413192, Acc: 83.33%]\n",
            "Accuracy 83.33333333333333\n",
            "[Epoch 9/10] [Batch 58 / 59] [Loss: 0.070331, Acc: 97.64%]Testing\n",
            "[Batch 14 / 15]  [Loss: 0.341936, Acc: 86.32%]\n",
            "Accuracy 86.32478632478633\n",
            "[Epoch 10/10] [Batch 58 / 59] [Loss: 0.031094, Acc: 99.25%]Testing\n",
            "[Batch 14 / 15]  [Loss: 0.411804, Acc: 84.62%]\n",
            "Accuracy 84.61538461538461\n"
          ]
        }
      ],
      "source": [
        "#learning rate\n",
        "lr = 1e-5 #0.001\n",
        "#number of epochs \n",
        "num_epochs = 10\n",
        "\n",
        "optimizer = torch.optim.Adam(model2.parameters(), lr= lr,weight_decay = 0.001)\n",
        "criterion = nn.CrossEntropyLoss().cuda()\n",
        "train_loss_avg =[]\n",
        "train_accuracy = []\n",
        "test_loss_avg = [] \n",
        "test_accuracy = []\n",
        "\n",
        "#call the train and test to fit the model\n",
        "for epoch in range(1,num_epochs+1):\n",
        "    l, acc = train_epoch(epoch,num_epochs,train_loader,model2,criterion,optimizer)\n",
        "    train_loss_avg.append(l)\n",
        "    train_accuracy.append(acc)\n",
        "    true,pred,tl,t_acc = test(epoch,model2,valid_loader,criterion)\n",
        "    test_loss_avg.append(tl)\n",
        "    test_accuracy.append(t_acc) "
      ]
    },
    {
      "cell_type": "code",
      "execution_count": null,
      "metadata": {
        "colab": {
          "base_uri": "https://localhost:8080/",
          "height": 590
        },
        "id": "NuqsldpifjjR",
        "outputId": "295e0747-ec38-45a7-c134-55d35deb62e0"
      },
      "outputs": [
        {
          "name": "stdout",
          "output_type": "stream",
          "text": [
            "10\n"
          ]
        },
        {
          "data": {
            "image/png": "[encoded data removed]",
            "text/plain": [
              "<Figure size 432x288 with 1 Axes>"
            ]
          },
          "metadata": {
            "needs_background": "light"
          },
          "output_type": "display_data"
        },
        {
          "data": {
            "image/png": "[encoded data removed]",
            "text/plain": [
              "<Figure size 432x288 with 1 Axes>"
            ]
          },
          "metadata": {
            "needs_background": "light"
          },
          "output_type": "display_data"
        }
      ],
      "source": [
        "#plot of loss and accuracy for ResNext_LSTM_Model\n",
        "plot_loss(train_loss_avg,test_loss_avg,len(train_loss_avg))\n",
        "plot_accuracy(train_accuracy,test_accuracy,len(train_accuracy))"
      ]
    },
    {
      "cell_type": "code",
      "execution_count": null,
      "metadata": {
        "colab": {
          "base_uri": "https://localhost:8080/",
          "height": 470
        },
        "id": "ImALPTKL9Mhs",
        "outputId": "1d38a9a3-fca8-4051-ba46-fffee567401b"
      },
      "outputs": [
        {
          "name": "stdout",
          "output_type": "stream",
          "text": [
            "[[ 87  20]\n",
            " [ 16 111]]\n",
            "True positive =  87\n",
            "False positive =  20\n",
            "False negative =  16\n",
            "True negative =  111\n",
            "\n",
            "\n"
          ]
        },
        {
          "data": {
            "image/png": "[encoded data removed]",
            "text/plain": [
              "<Figure size 432x288 with 2 Axes>"
            ]
          },
          "metadata": {},
          "output_type": "display_data"
        },
        {
          "name": "stdout",
          "output_type": "stream",
          "text": [
            "Calculated Accuracy 84.61538461538461\n"
          ]
        }
      ],
      "source": [
        "#Confusion Matrix ResNext_LSTM_Model\n",
        "print(confusion_matrix(true,pred))\n",
        "print_confusion_matrix(true,pred)"
      ]
    },
    {
      "cell_type": "markdown",
      "metadata": {
        "id": "faLMLquvBP2z"
      },
      "source": [
        "## **Model 3: EfficientNet + GRU**"
      ]
    },
    {
      "cell_type": "code",
      "execution_count": null,
      "metadata": {
        "id": "mrOEI2Ffj60l"
      },
      "outputs": [],
      "source": [
        "#Model with Pretrained Efficient Net with GRU \n",
        "class Efficient_GRU_Model(nn.Module):\n",
        "    def __init__(self, num_classes,latent_dim= 1280, gru_layers=2 , hidden_dim = 1280, bidirectional = False):\n",
        "        super(Efficient_GRU_Model, self).__init__()\n",
        "        model = models.efficientnet_b0(pretrained = True) #Pretrained Efficient Net b0 Model\n",
        "        self.model = nn.Sequential(*list(model.children())[:-2])\n",
        "        self.gru = nn.GRU(latent_dim, hidden_dim, gru_layers, bidirectional) #GRU Layer\n",
        "        self.relu = nn.LeakyReLU()\n",
        "        self.dp = nn.Dropout(0.3)\n",
        "        self.linear1 = nn.Linear(1280,256)\n",
        "        self.linear2 = nn.Linear(256,128)\n",
        "        self.linear3 = nn.Linear(128,num_classes)\n",
        "        self.avgpool = nn.AdaptiveAvgPool2d(1)\n",
        "        \n",
        "    def forward(self, x):\n",
        "        batch_size,seq_length, c, h, w = x.shape \n",
        "        x = x.view(batch_size * seq_length, c, h, w)\n",
        "        fmap = self.model(x)\n",
        "        x = self.avgpool(fmap)\n",
        "        x = x.view(batch_size,seq_length,1280)\n",
        "        x_gru,_ = self.gru(x,None)\n",
        "        x = self.relu((self.linear1(torch.mean(x_gru,dim = 1))))\n",
        "        x = self.relu(self.dp(self.linear2(x)))\n",
        "        x = self.linear3(x)\n",
        "        return fmap,x"
      ]
    },
    {
      "cell_type": "code",
      "execution_count": null,
      "metadata": {
        "id": "rgjfUgDHkA8_"
      },
      "outputs": [],
      "source": [
        "#instantiate the  Efficient_GRU_Model\n",
        "model3 = Efficient_GRU_Model(2,bidirectional=True).cuda()"
      ]
    },
    {
      "cell_type": "code",
      "execution_count": null,
      "metadata": {
        "id": "rTZfJRTzkEP7"
      },
      "outputs": [],
      "source": [
        "#train function for Efficient_GRU_Model\n",
        "def train_epoch(epoch, num_epochs, data_loader, model, criterion, optimizer):\n",
        "    model.train()\n",
        "    losses = AverageMeter()\n",
        "    accuracies = AverageMeter()\n",
        "    t = []\n",
        "    for i, (inputs, targets) in enumerate(data_loader):\n",
        "        if torch.cuda.is_available():\n",
        "            targets = targets.type(torch.cuda.LongTensor)\n",
        "            inputs = inputs.cuda()\n",
        "        _,outputs = model(inputs)\n",
        "        loss  = criterion(outputs,targets.type(torch.cuda.LongTensor))\n",
        "        acc = calculate_accuracy(outputs, targets.type(torch.cuda.LongTensor))\n",
        "        losses.update(loss.item(), inputs.size(0))\n",
        "        accuracies.update(acc, inputs.size(0))\n",
        "        optimizer.zero_grad()\n",
        "        loss.backward()\n",
        "        optimizer.step()\n",
        "        sys.stdout.write(\n",
        "                \"\\r[Epoch %d/%d] [Batch %d / %d] [Loss: %f, Acc: %.2f%%]\"\n",
        "                % (\n",
        "                    epoch,\n",
        "                    num_epochs,\n",
        "                    i,\n",
        "                    len(data_loader),\n",
        "                    losses.avg,\n",
        "                    accuracies.avg))\n",
        "    torch.save(model.state_dict(),'EfficientNet_GRU_Model.pt')\n",
        "    return losses.avg,accuracies.avg\n",
        "\n",
        "#test function for Efficient_GRU_Model\n",
        "def test(epoch,model, data_loader ,criterion):\n",
        "    print('Testing')\n",
        "    model.eval()\n",
        "    losses = AverageMeter()\n",
        "    accuracies = AverageMeter()\n",
        "    pred = []\n",
        "    true = []\n",
        "    count = 0\n",
        "    with torch.no_grad():\n",
        "        for i, (inputs, targets) in enumerate(data_loader):\n",
        "            if torch.cuda.is_available():\n",
        "                targets = targets.cuda().type(torch.cuda.FloatTensor)\n",
        "                inputs = inputs.cuda()\n",
        "            _,outputs = model(inputs)\n",
        "            loss = torch.mean(criterion(outputs, targets.type(torch.cuda.LongTensor)))\n",
        "            acc = calculate_accuracy(outputs,targets.type(torch.cuda.LongTensor))\n",
        "            _,p = torch.max(outputs,1) \n",
        "            true += (targets.type(torch.cuda.LongTensor)).detach().cpu().numpy().reshape(len(targets)).tolist()\n",
        "            pred += p.detach().cpu().numpy().reshape(len(p)).tolist()\n",
        "            losses.update(loss.item(), inputs.size(0))\n",
        "            accuracies.update(acc, inputs.size(0))\n",
        "            sys.stdout.write(\n",
        "                    \"\\r[Batch %d / %d]  [Loss: %f, Acc: %.2f%%]\"\n",
        "                    % (\n",
        "                        i,\n",
        "                        len(data_loader),\n",
        "                        losses.avg,\n",
        "                        accuracies.avg\n",
        "                        )\n",
        "                    )\n",
        "        print('\\nAccuracy {}'.format(accuracies.avg))\n",
        "    return true,pred,losses.avg,accuracies.avg"
      ]
    },
    {
      "cell_type": "code",
      "source": [
        "#learning rate\n",
        "lr = 1e-5\n",
        "#number of epochs \n",
        "num_epochs = 20\n",
        "\n",
        "optimizer = torch.optim.Adam(model3.parameters(), lr= lr,weight_decay = 1e-5)\n",
        "\n",
        "criterion = nn.CrossEntropyLoss().cuda()\n",
        "train_loss_avg =[]\n",
        "train_accuracy = []\n",
        "test_loss_avg = []\n",
        "test_accuracy = []\n",
        "for epoch in range(1,num_epochs+1):\n",
        "    l, acc = train_epoch(epoch,num_epochs,train_loader,model3,criterion,optimizer)\n",
        "    train_loss_avg.append(l)\n",
        "    train_accuracy.append(acc)\n",
        "    true,pred,tl,t_acc = test(epoch,model3,valid_loader,criterion)\n",
        "    test_loss_avg.append(tl)\n",
        "    test_accuracy.append(t_acc)\n"
      ],
      "metadata": {
        "colab": {
          "base_uri": "https://localhost:8080/"
        },
        "outputId": "b9b0db02-be90-4d39-fc4c-3369c2749641",
        "id": "APCbtkdk5GR3"
      },
      "execution_count": null,
      "outputs": [
        {
          "output_type": "stream",
          "name": "stderr",
          "text": [
            "/usr/local/lib/python3.7/dist-packages/torch/utils/data/dataloader.py:490: UserWarning: This DataLoader will create 4 worker processes in total. Our suggested max number of worker in current system is 2, which is smaller than what this DataLoader is going to create. Please be aware that excessive worker creation might get DataLoader running slow or even freeze, lower the worker number to avoid potential slowness/freeze if necessary.\n",
            "  cpuset_checked))\n"
          ]
        },
        {
          "output_type": "stream",
          "name": "stdout",
          "text": [
            "[Epoch 1/20] [Batch 58 / 59] [Loss: 0.693480, Acc: 50.00%]Testing\n",
            "[Batch 14 / 15]  [Loss: 0.692777, Acc: 50.85%]\n",
            "Accuracy 50.85470085470085\n",
            "[Epoch 2/20] [Batch 58 / 59] [Loss: 0.692329, Acc: 53.21%]Testing\n",
            "[Batch 14 / 15]  [Loss: 0.692407, Acc: 54.27%]\n",
            "Accuracy 54.27350427350427\n",
            "[Epoch 3/20] [Batch 58 / 59] [Loss: 0.690831, Acc: 56.32%]Testing\n",
            "[Batch 14 / 15]  [Loss: 0.690874, Acc: 57.26%]\n",
            "Accuracy 57.26495726495727\n",
            "[Epoch 4/20] [Batch 58 / 59] [Loss: 0.687944, Acc: 59.31%]Testing\n",
            "[Batch 14 / 15]  [Loss: 0.687014, Acc: 58.55%]\n",
            "Accuracy 58.547008547008545\n",
            "[Epoch 5/20] [Batch 58 / 59] [Loss: 0.679578, Acc: 65.52%]Testing\n",
            "[Batch 14 / 15]  [Loss: 0.672974, Acc: 66.24%]\n",
            "Accuracy 66.23931623931624\n",
            "[Epoch 6/20] [Batch 58 / 59] [Loss: 0.654534, Acc: 67.88%]Testing\n",
            "[Batch 14 / 15]  [Loss: 0.649384, Acc: 67.95%]\n",
            "Accuracy 67.94871794871794\n",
            "[Epoch 7/20] [Batch 58 / 59] [Loss: 0.547790, Acc: 77.84%]Testing\n",
            "[Batch 14 / 15]  [Loss: 0.517558, Acc: 75.21%]\n",
            "Accuracy 75.21367521367522\n",
            "[Epoch 8/20] [Batch 58 / 59] [Loss: 0.406527, Acc: 83.51%]Testing\n",
            "[Batch 14 / 15]  [Loss: 0.445881, Acc: 79.06%]\n",
            "Accuracy 79.05982905982906\n",
            "[Epoch 9/20] [Batch 58 / 59] [Loss: 0.282941, Acc: 90.04%]Testing\n",
            "[Batch 14 / 15]  [Loss: 0.455476, Acc: 79.91%]\n",
            "Accuracy 79.91452991452991\n",
            "[Epoch 10/20] [Batch 58 / 59] [Loss: 0.243389, Acc: 91.22%]Testing\n",
            "[Batch 14 / 15]  [Loss: 0.444158, Acc: 80.77%]\n",
            "Accuracy 80.76923076923077\n",
            "[Epoch 11/20] [Batch 58 / 59] [Loss: 0.231445, Acc: 91.22%]Testing\n",
            "[Batch 14 / 15]  [Loss: 0.419362, Acc: 82.48%]\n",
            "Accuracy 82.47863247863248\n",
            "[Epoch 12/20] [Batch 58 / 59] [Loss: 0.175562, Acc: 93.79%]Testing\n",
            "[Batch 14 / 15]  [Loss: 0.451122, Acc: 81.62%]\n",
            "Accuracy 81.62393162393163\n",
            "[Epoch 13/20] [Batch 58 / 59] [Loss: 0.144685, Acc: 95.50%]Testing\n",
            "[Batch 14 / 15]  [Loss: 0.430256, Acc: 82.48%]\n",
            "Accuracy 82.47863247863248\n",
            "[Epoch 14/20] [Batch 58 / 59] [Loss: 0.128889, Acc: 95.18%]Testing\n",
            "[Batch 14 / 15]  [Loss: 0.458494, Acc: 80.34%]\n",
            "Accuracy 80.34188034188034\n",
            "[Epoch 15/20] [Batch 58 / 59] [Loss: 0.096483, Acc: 97.00%]Testing\n",
            "[Batch 14 / 15]  [Loss: 0.498341, Acc: 80.77%]\n",
            "Accuracy 80.76923076923077\n",
            "[Epoch 16/20] [Batch 58 / 59] [Loss: 0.096953, Acc: 96.68%]Testing\n",
            "[Batch 14 / 15]  [Loss: 0.462228, Acc: 80.77%]\n",
            "Accuracy 80.76923076923077\n",
            "[Epoch 17/20] [Batch 58 / 59] [Loss: 0.087271, Acc: 97.32%]Testing\n",
            "[Batch 14 / 15]  [Loss: 0.509030, Acc: 80.77%]\n",
            "Accuracy 80.76923076923077\n",
            "[Epoch 18/20] [Batch 58 / 59] [Loss: 0.068010, Acc: 97.54%]Testing\n",
            "[Batch 14 / 15]  [Loss: 0.547990, Acc: 82.48%]\n",
            "Accuracy 82.47863247863248\n",
            "[Epoch 19/20] [Batch 58 / 59] [Loss: 0.076060, Acc: 97.32%]Testing\n",
            "[Batch 14 / 15]  [Loss: 0.511217, Acc: 81.62%]\n",
            "Accuracy 81.62393162393163\n",
            "[Epoch 20/20] [Batch 58 / 59] [Loss: 0.072400, Acc: 97.11%]Testing\n",
            "[Batch 14 / 15]  [Loss: 0.559478, Acc: 81.20%]\n",
            "Accuracy 81.19658119658119\n"
          ]
        }
      ]
    },
    {
      "cell_type": "code",
      "execution_count": null,
      "metadata": {
        "colab": {
          "base_uri": "https://localhost:8080/",
          "height": 590
        },
        "id": "zbRZJ9-3lLIM",
        "outputId": "182918b9-a27c-4777-f61b-b201f13d8872"
      },
      "outputs": [
        {
          "name": "stdout",
          "output_type": "stream",
          "text": [
            "20\n"
          ]
        },
        {
          "data": {
            "image/png": "[encoded data removed]",
            "text/plain": [
              "<Figure size 432x288 with 1 Axes>"
            ]
          },
          "metadata": {
            "needs_background": "light"
          },
          "output_type": "display_data"
        },
        {
          "data": {
            "image/png": "[encoded data removed]",
            "text/plain": [
              "<Figure size 432x288 with 1 Axes>"
            ]
          },
          "metadata": {
            "needs_background": "light"
          },
          "output_type": "display_data"
        }
      ],
      "source": [
        "#plot of loss and accuracy for Efficient_GRU_Model\n",
        "plot_loss(train_loss_avg,test_loss_avg,len(train_loss_avg))\n",
        "plot_accuracy(train_accuracy,test_accuracy,len(train_accuracy))"
      ]
    },
    {
      "cell_type": "code",
      "execution_count": null,
      "metadata": {
        "id": "k4mb0JQaElR-",
        "outputId": "c424357e-d1de-4b1b-e748-17d0f55a4b9b"
      },
      "outputs": [
        {
          "name": "stdout",
          "output_type": "stream",
          "text": [
            "[[104  21]\n",
            " [  4 105]]\n",
            "True positive =  104\n",
            "False positive =  21\n",
            "False negative =  4\n",
            "True negative =  105\n",
            "\n",
            "\n"
          ]
        },
        {
          "data": {
            "image/png": "[encoded data removed]",
            "text/plain": [
              "<Figure size 432x288 with 2 Axes>"
            ]
          },
          "metadata": {},
          "output_type": "display_data"
        },
        {
          "name": "stdout",
          "output_type": "stream",
          "text": [
            "Calculated Accuracy 89.31623931623932\n"
          ]
        }
      ],
      "source": [
        "#Confusion Matrix for Efficient_GRU_Model\n",
        "print(confusion_matrix(true,pred))\n",
        "print_confusion_matrix(true,pred)"
      ]
    }
  ],
  "metadata": {
    "accelerator": "GPU",
    "colab": {
      "collapsed_sections": [],
      "name": "DeepFake Detection Using Deep Learning.ipynb",
      "provenance": [],
      "toc_visible": true
    },
    "kernelspec": {
      "display_name": "Python 3",
      "name": "python3"
    },
    "language_info": {
      "name": "python"
    },
    "widgets": {
      "application/vnd.jupyter.widget-state+json": {
        "f700981ba61d4915929a6ebf4075b9c3": {
          "model_module": "@jupyter-widgets/controls",
          "model_name": "HBoxModel",
          "model_module_version": "1.5.0",
          "state": {
            "_dom_classes": [],
            "_model_module": "@jupyter-widgets/controls",
            "_model_module_version": "1.5.0",
            "_model_name": "HBoxModel",
            "_view_count": null,
            "_view_module": "@jupyter-widgets/controls",
            "_view_module_version": "1.5.0",
            "_view_name": "HBoxView",
            "box_style": "",
            "children": [
              "IPY_MODEL_b03380f807d64d4cb634c795e7997026",
              "IPY_MODEL_48b28a9d41e94c06b2a2bfee84680179",
              "IPY_MODEL_6878c18d29844de0b95b008b98a9d6ba"
            ],
            "layout": "IPY_MODEL_548a28616c9b4e87b13bf3ba90e98854"
          }
        },
        "b03380f807d64d4cb634c795e7997026": {
          "model_module": "@jupyter-widgets/controls",
          "model_name": "HTMLModel",
          "model_module_version": "1.5.0",
          "state": {
            "_dom_classes": [],
            "_model_module": "@jupyter-widgets/controls",
            "_model_module_version": "1.5.0",
            "_model_name": "HTMLModel",
            "_view_count": null,
            "_view_module": "@jupyter-widgets/controls",
            "_view_module_version": "1.5.0",
            "_view_name": "HTMLView",
            "description": "",
            "description_tooltip": null,
            "layout": "IPY_MODEL_948e842185c34823bd87292d082a5bbb",
            "placeholder": "​",
            "style": "IPY_MODEL_4f5bb62b782e416a89e803b896e9b50c",
            "value": "100%"
          }
        },
        "48b28a9d41e94c06b2a2bfee84680179": {
          "model_module": "@jupyter-widgets/controls",
          "model_name": "FloatProgressModel",
          "model_module_version": "1.5.0",
          "state": {
            "_dom_classes": [],
            "_model_module": "@jupyter-widgets/controls",
            "_model_module_version": "1.5.0",
            "_model_name": "FloatProgressModel",
            "_view_count": null,
            "_view_module": "@jupyter-widgets/controls",
            "_view_module_version": "1.5.0",
            "_view_name": "ProgressView",
            "bar_style": "success",
            "description": "",
            "description_tooltip": null,
            "layout": "IPY_MODEL_55ac171d66ee40dc850876367d712433",
            "max": 100441675,
            "min": 0,
            "orientation": "horizontal",
            "style": "IPY_MODEL_2a2c729a627040eb8bbee0dadd6f009c",
            "value": 100441675
          }
        },
        "6878c18d29844de0b95b008b98a9d6ba": {
          "model_module": "@jupyter-widgets/controls",
          "model_name": "HTMLModel",
          "model_module_version": "1.5.0",
          "state": {
            "_dom_classes": [],
            "_model_module": "@jupyter-widgets/controls",
            "_model_module_version": "1.5.0",
            "_model_name": "HTMLModel",
            "_view_count": null,
            "_view_module": "@jupyter-widgets/controls",
            "_view_module_version": "1.5.0",
            "_view_name": "HTMLView",
            "description": "",
            "description_tooltip": null,
            "layout": "IPY_MODEL_eeebe7bc19184527825ef87bdfec5b0e",
            "placeholder": "​",
            "style": "IPY_MODEL_85fc306ca1cf44e8ac98271ef15e01b4",
            "value": " 95.8M/95.8M [00:03&lt;00:00, 74.3MB/s]"
          }
        },
        "548a28616c9b4e87b13bf3ba90e98854": {
          "model_module": "@jupyter-widgets/base",
          "model_name": "LayoutModel",
          "model_module_version": "1.2.0",
          "state": {
            "_model_module": "@jupyter-widgets/base",
            "_model_module_version": "1.2.0",
            "_model_name": "LayoutModel",
            "_view_count": null,
            "_view_module": "@jupyter-widgets/base",
            "_view_module_version": "1.2.0",
            "_view_name": "LayoutView",
            "align_content": null,
            "align_items": null,
            "align_self": null,
            "border": null,
            "bottom": null,
            "display": null,
            "flex": null,
            "flex_flow": null,
            "grid_area": null,
            "grid_auto_columns": null,
            "grid_auto_flow": null,
            "grid_auto_rows": null,
            "grid_column": null,
            "grid_gap": null,
            "grid_row": null,
            "grid_template_areas": null,
            "grid_template_columns": null,
            "grid_template_rows": null,
            "height": null,
            "justify_content": null,
            "justify_items": null,
            "left": null,
            "margin": null,
            "max_height": null,
            "max_width": null,
            "min_height": null,
            "min_width": null,
            "object_fit": null,
            "object_position": null,
            "order": null,
            "overflow": null,
            "overflow_x": null,
            "overflow_y": null,
            "padding": null,
            "right": null,
            "top": null,
            "visibility": null,
            "width": null
          }
        },
        "948e842185c34823bd87292d082a5bbb": {
          "model_module": "@jupyter-widgets/base",
          "model_name": "LayoutModel",
          "model_module_version": "1.2.0",
          "state": {
            "_model_module": "@jupyter-widgets/base",
            "_model_module_version": "1.2.0",
            "_model_name": "LayoutModel",
            "_view_count": null,
            "_view_module": "@jupyter-widgets/base",
            "_view_module_version": "1.2.0",
            "_view_name": "LayoutView",
            "align_content": null,
            "align_items": null,
            "align_self": null,
            "border": null,
            "bottom": null,
            "display": null,
            "flex": null,
            "flex_flow": null,
            "grid_area": null,
            "grid_auto_columns": null,
            "grid_auto_flow": null,
            "grid_auto_rows": null,
            "grid_column": null,
            "grid_gap": null,
            "grid_row": null,
            "grid_template_areas": null,
            "grid_template_columns": null,
            "grid_template_rows": null,
            "height": null,
            "justify_content": null,
            "justify_items": null,
            "left": null,
            "margin": null,
            "max_height": null,
            "max_width": null,
            "min_height": null,
            "min_width": null,
            "object_fit": null,
            "object_position": null,
            "order": null,
            "overflow": null,
            "overflow_x": null,
            "overflow_y": null,
            "padding": null,
            "right": null,
            "top": null,
            "visibility": null,
            "width": null
          }
        },
        "4f5bb62b782e416a89e803b896e9b50c": {
          "model_module": "@jupyter-widgets/controls",
          "model_name": "DescriptionStyleModel",
          "model_module_version": "1.5.0",
          "state": {
            "_model_module": "@jupyter-widgets/controls",
            "_model_module_version": "1.5.0",
            "_model_name": "DescriptionStyleModel",
            "_view_count": null,
            "_view_module": "@jupyter-widgets/base",
            "_view_module_version": "1.2.0",
            "_view_name": "StyleView",
            "description_width": ""
          }
        },
        "55ac171d66ee40dc850876367d712433": {
          "model_module": "@jupyter-widgets/base",
          "model_name": "LayoutModel",
          "model_module_version": "1.2.0",
          "state": {
            "_model_module": "@jupyter-widgets/base",
            "_model_module_version": "1.2.0",
            "_model_name": "LayoutModel",
            "_view_count": null,
            "_view_module": "@jupyter-widgets/base",
            "_view_module_version": "1.2.0",
            "_view_name": "LayoutView",
            "align_content": null,
            "align_items": null,
            "align_self": null,
            "border": null,
            "bottom": null,
            "display": null,
            "flex": null,
            "flex_flow": null,
            "grid_area": null,
            "grid_auto_columns": null,
            "grid_auto_flow": null,
            "grid_auto_rows": null,
            "grid_column": null,
            "grid_gap": null,
            "grid_row": null,
            "grid_template_areas": null,
            "grid_template_columns": null,
            "grid_template_rows": null,
            "height": null,
            "justify_content": null,
            "justify_items": null,
            "left": null,
            "margin": null,
            "max_height": null,
            "max_width": null,
            "min_height": null,
            "min_width": null,
            "object_fit": null,
            "object_position": null,
            "order": null,
            "overflow": null,
            "overflow_x": null,
            "overflow_y": null,
            "padding": null,
            "right": null,
            "top": null,
            "visibility": null,
            "width": null
          }
        },
        "2a2c729a627040eb8bbee0dadd6f009c": {
          "model_module": "@jupyter-widgets/controls",
          "model_name": "ProgressStyleModel",
          "model_module_version": "1.5.0",
          "state": {
            "_model_module": "@jupyter-widgets/controls",
            "_model_module_version": "1.5.0",
            "_model_name": "ProgressStyleModel",
            "_view_count": null,
            "_view_module": "@jupyter-widgets/base",
            "_view_module_version": "1.2.0",
            "_view_name": "StyleView",
            "bar_color": null,
            "description_width": ""
          }
        },
        "eeebe7bc19184527825ef87bdfec5b0e": {
          "model_module": "@jupyter-widgets/base",
          "model_name": "LayoutModel",
          "model_module_version": "1.2.0",
          "state": {
            "_model_module": "@jupyter-widgets/base",
            "_model_module_version": "1.2.0",
            "_model_name": "LayoutModel",
            "_view_count": null,
            "_view_module": "@jupyter-widgets/base",
            "_view_module_version": "1.2.0",
            "_view_name": "LayoutView",
            "align_content": null,
            "align_items": null,
            "align_self": null,
            "border": null,
            "bottom": null,
            "display": null,
            "flex": null,
            "flex_flow": null,
            "grid_area": null,
            "grid_auto_columns": null,
            "grid_auto_flow": null,
            "grid_auto_rows": null,
            "grid_column": null,
            "grid_gap": null,
            "grid_row": null,
            "grid_template_areas": null,
            "grid_template_columns": null,
            "grid_template_rows": null,
            "height": null,
            "justify_content": null,
            "justify_items": null,
            "left": null,
            "margin": null,
            "max_height": null,
            "max_width": null,
            "min_height": null,
            "min_width": null,
            "object_fit": null,
            "object_position": null,
            "order": null,
            "overflow": null,
            "overflow_x": null,
            "overflow_y": null,
            "padding": null,
            "right": null,
            "top": null,
            "visibility": null,
            "width": null
          }
        },
        "85fc306ca1cf44e8ac98271ef15e01b4": {
          "model_module": "@jupyter-widgets/controls",
          "model_name": "DescriptionStyleModel",
          "model_module_version": "1.5.0",
          "state": {
            "_model_module": "@jupyter-widgets/controls",
            "_model_module_version": "1.5.0",
            "_model_name": "DescriptionStyleModel",
            "_view_count": null,
            "_view_module": "@jupyter-widgets/base",
            "_view_module_version": "1.2.0",
            "_view_name": "StyleView",
            "description_width": ""
          }
        }
      }
    }
  },
  "nbformat": 4,
  "nbformat_minor": 0
}